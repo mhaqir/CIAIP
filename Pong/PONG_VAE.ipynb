{
  "nbformat": 4,
  "nbformat_minor": 0,
  "metadata": {
    "colab": {
      "name": "PONG_VAE-2.ipynb",
      "provenance": [],
      "collapsed_sections": []
    },
    "kernelspec": {
      "name": "python3",
      "display_name": "Python 3"
    }
  },
  "cells": [
    {
      "cell_type": "code",
      "metadata": {
        "colab": {
          "base_uri": "https://localhost:8080/"
        },
        "id": "DO9vdgdURXOo",
        "outputId": "b14da778-a2f9-4401-e4b2-6de363442902"
      },
      "source": [
        "from google.colab import drive\n",
        "drive.mount('/content/gdrive')"
      ],
      "execution_count": 2,
      "outputs": [
        {
          "output_type": "stream",
          "text": [
            "Mounted at /content/gdrive\n"
          ],
          "name": "stdout"
        }
      ]
    },
    {
      "cell_type": "code",
      "metadata": {
        "colab": {
          "base_uri": "https://localhost:8080/"
        },
        "id": "iV0g-1QEfcBM",
        "outputId": "440a6eef-2a6b-4674-f694-229a06cb6124"
      },
      "source": [
        "!python3 -m pip install -U pygame==1.9.3"
      ],
      "execution_count": null,
      "outputs": [
        {
          "output_type": "stream",
          "text": [
            "Collecting pygame==1.9.3\n",
            "\u001b[?25l  Downloading https://files.pythonhosted.org/packages/e4/c7/f57009a23c8f0520031be7042aa78407d88843876b2a504d4990e753fb70/pygame-1.9.3-cp36-cp36m-manylinux1_x86_64.whl (9.4MB)\n",
            "\u001b[K     |████████████████████████████████| 9.4MB 5.4MB/s \n",
            "\u001b[?25hInstalling collected packages: pygame\n",
            "  Found existing installation: pygame 1.9.6\n",
            "    Uninstalling pygame-1.9.6:\n",
            "      Successfully uninstalled pygame-1.9.6\n",
            "Successfully installed pygame-1.9.3\n"
          ],
          "name": "stdout"
        }
      ]
    },
    {
      "cell_type": "code",
      "metadata": {
        "colab": {
          "base_uri": "https://localhost:8080/"
        },
        "id": "CUeQVrjbhOXF",
        "outputId": "758b2150-d90b-47fc-bca1-a5bfbcbc99d9"
      },
      "source": [
        "!git clone https://github.com/ntasfi/PyGame-Learning-Environment.git"
      ],
      "execution_count": null,
      "outputs": [
        {
          "output_type": "stream",
          "text": [
            "fatal: destination path 'PyGame-Learning-Environment' already exists and is not an empty directory.\n"
          ],
          "name": "stdout"
        }
      ]
    },
    {
      "cell_type": "code",
      "metadata": {
        "colab": {
          "base_uri": "https://localhost:8080/"
        },
        "id": "kfNuwrYBhV42",
        "outputId": "deb60fac-4aff-4ac5-8833-3f26e4bdae99"
      },
      "source": [
        "%cd /content/PyGame-Learning-Environment\n",
        "!pip install -e ."
      ],
      "execution_count": null,
      "outputs": [
        {
          "output_type": "stream",
          "text": [
            "/content/PyGame-Learning-Environment\n",
            "Obtaining file:///content/PyGame-Learning-Environment\n",
            "Requirement already satisfied: numpy in /usr/local/lib/python3.6/dist-packages (from ple==0.0.1) (1.18.5)\n",
            "Requirement already satisfied: Pillow in /usr/local/lib/python3.6/dist-packages (from ple==0.0.1) (7.0.0)\n",
            "Installing collected packages: ple\n",
            "  Found existing installation: ple 0.0.1\n",
            "    Can't uninstall 'ple'. No files were found to uninstall.\n",
            "  Running setup.py develop for ple\n",
            "Successfully installed ple\n"
          ],
          "name": "stdout"
        }
      ]
    },
    {
      "cell_type": "code",
      "metadata": {
        "id": "NyRQlG7Y0lYp"
      },
      "source": [
        "import os\n",
        "os.putenv('SDL_VIDEODRIVER', 'fbcon')\n",
        "os.environ[\"SDL_VIDEODRIVER\"] = \"dummy\"\n",
        "\n",
        "from ple.games.pong import Pong\n",
        "import pygame\n",
        "from ple import PLE"
      ],
      "execution_count": null,
      "outputs": []
    },
    {
      "cell_type": "code",
      "metadata": {
        "id": "zh7nivcX0J3f",
        "colab": {
          "base_uri": "https://localhost:8080/"
        },
        "outputId": "f6ddd981-3964-4e2a-c9aa-e4a4c8cc532d"
      },
      "source": [
        "# Setting up the game environment and getting the list of possible actions\n",
        "game = Pong(width=64, height=64)\n",
        "p = PLE(game, fps=30, display_screen=False, force_fps=False)\n",
        "action_set = p.getActionSet()"
      ],
      "execution_count": null,
      "outputs": [
        {
          "output_type": "stream",
          "text": [
            "couldn't import doomish\n",
            "Couldn't import doom\n"
          ],
          "name": "stdout"
        }
      ]
    },
    {
      "cell_type": "code",
      "metadata": {
        "id": "el8X6XY6CnP2"
      },
      "source": [
        "# the agent() and trail() functions for generating the frames\n",
        "# One player is CPU and the other player is a random agnet\n",
        "import random\n",
        "from copy import deepcopy\n",
        "import numpy as np\n",
        "\n",
        "\n",
        "NB_FRAMES = 1000\n",
        "NB_TRAILS = 200\n",
        "DIR_NAME = '/content/drive/MyDrive/PONG_Data_large_ball_pad_random_agent'\n",
        "\n",
        "def agent(action_set):\n",
        "  return random.choice(action_set)\n",
        "\n",
        "def trail(nb_frames, p, action_set):\n",
        "  obs_w_p = []\n",
        "  # obs_o_p = []\n",
        "  for f in range(nb_frames):\n",
        "    if p.game_over():\n",
        "      p.reset_game()\n",
        "    frame_w_p = p.getScreenGrayscale() # getting gray scale frames\n",
        "    obs_w_p.append(frame_w_p)\n",
        "\n",
        "    # removing paddles (this only works when the paddles were small)\n",
        "    # frame_o_p = deepcopy(frame_w_p)\n",
        "    # frame_o_p[4, 27:37] = 0 \n",
        "    # frame_o_p[60, :] = 0\n",
        "    # obs_o_p.append(frame_o_p)\n",
        "\n",
        "    action = agent(action_set)\n",
        "    r = p.act(action)\n",
        "  return obs_w_p #, obs_o_p\n",
        "\n",
        "# For running one trial\n",
        "# p.init()\n",
        "# obs_w_p, obs_o_p = trail(NB_FRAMES, p)\n",
        "# recording_obs_w_p = np.array(obs_w_p, dtype=np.uint8)\n",
        "# recording_obs_o_p = np.array(obs_o_p, dtype=np.uint8)\n",
        "\n",
        "# For running multiple trails\n",
        "for nt in range(NB_TRAILS):\n",
        "    random_generated_int = random.randint(0, 2**31-1)\n",
        "    filename = DIR_NAME+\"/\"+str(random_generated_int)+\".npz\"\n",
        "    p.init()\n",
        "    obs_w_p = trail(NB_FRAMES, p, action_set)\n",
        "    recording_obs_w_p = np.array(obs_w_p, dtype=np.uint8)\n",
        "    np.savez_compressed(filename, obs_w_p=recording_obs_w_p)\n",
        "\n",
        "    # For when I was zeroing out the small paddles\n",
        "    # obs_w_p, obs_o_p = trail(NB_FRAMES, p)\n",
        "    # recording_obs_w_p = np.array(obs_w_p, dtype=np.uint8)\n",
        "    # recording_obs_o_p = np.array(obs_o_p, dtype=np.uint8)\n",
        "    # np.savez_compressed(filename, obs_w_p=recording_obs_w_p, obs_o_p=recording_obs_o_p)"
      ],
      "execution_count": null,
      "outputs": []
    },
    {
      "cell_type": "code",
      "metadata": {
        "colab": {
          "base_uri": "https://localhost:8080/",
          "height": 268
        },
        "id": "kVxevQo4TOEC",
        "outputId": "e851421e-546a-4390-8fd2-5b8756c98370"
      },
      "source": [
        "# For animating the frames\n",
        "import matplotlib.animation as animation\n",
        "import matplotlib.pyplot as plt\n",
        "\n",
        "def animate(frames, anim_name):\n",
        "  fig = plt.figure('fig')\n",
        "  imgs = [[plt.imshow(f, cmap='gray')] for f in frames]\n",
        "  anim = animation.ArtistAnimation(fig, imgs, interval = 30, blit = True, repeat_delay=0)\n",
        "  anim.save('{}.mp4'.format(anim_name))\n",
        "\n",
        "animate(obs_w_p, 'trail_w_p.mp4') # Animating one of the trials"
      ],
      "execution_count": null,
      "outputs": [
        {
          "output_type": "display_data",
          "data": {
            "image/png": "[encoded data removed]",
            "text/plain": [
              "<Figure size 432x288 with 1 Axes>"
            ]
          },
          "metadata": {
            "tags": [],
            "needs_background": "light"
          }
        }
      ]
    },
    {
      "cell_type": "code",
      "metadata": {
        "id": "_RLB4-875PNz"
      },
      "source": [
        "# For extracting the paddles from the frames\n",
        "from copy import deepcopy\n",
        "\n",
        "def extract_pad(f):\n",
        "  frames = deepcopy(f)\n",
        "  for i in range(np.shape(frames)[0]):\n",
        "    pad_sum = np.sum(frames[i], axis = 0)\n",
        "    pad_sum_5 = np.where(np.sum(frames[i], axis = 0) == 5)[0] # 5 is paddle height\n",
        "    idx = []\n",
        "    for j in range(np.shape(pad_sum_5)[0] - 1):\n",
        "      if pad_sum_5[j + 1] == pad_sum_5[j] + 1:\n",
        "        idx.append(pad_sum_5[j])\n",
        "      else:\n",
        "        if len(idx) > 8: # A threshold, should be a portion of the paddle length (here paddle length is 10)\n",
        "          break\n",
        "        else:\n",
        "          idx = []\n",
        "    while len(idx) < 10: # paddle length\n",
        "      if idx[-1] < 63:  # frame width\n",
        "        if pad_sum[idx[-1] + 1] > 0:\n",
        "          idx.append(idx[-1] + 1)\n",
        "        else:\n",
        "          idx.insert(0,idx[0] - 1)\n",
        "    frames[i, :, [k for k in range(np.shape(frames)[2]) if k not in idx]] = 0\n",
        "  return frames"
      ],
      "execution_count": null,
      "outputs": []
    },
    {
      "cell_type": "code",
      "metadata": {
        "id": "WWBL861Rg2YN"
      },
      "source": [
        "# Using the extract_pad() function to extract the pads in separate frames, and trimming the frames to include only the ball\n",
        "import numpy as np\n",
        "import os\n",
        "\n",
        "DATA_DIR = '/content/gdrive/MyDrive/PONG_Data_large_ball_pad_random_agent'\n",
        "NEW_DIR = '/content/gdrive/MyDrive/PONG_Data_ball_pads_seperated'\n",
        "\n",
        "\n",
        "filelist = os.listdir(DATA_DIR)\n",
        "for f in filelist:\n",
        "  data = np.load(DATA_DIR + '/' + f)\n",
        "  game_frames = data['obs_w_p']\n",
        "  game_frames = game_frames/255.0\n",
        "  ball_frames = np.zeros_like(game_frames[1:, 7:58, :]) # drop the first frame \n",
        "  ball_frames[:,: ,:] = game_frames[1:,7:58,:] \n",
        "\n",
        "  # Extracting upper pads\n",
        "  upper_pads = np.zeros_like(ball_frames) \n",
        "  upper_pads[:, 2:7,:] = game_frames[1:, 2:7,:] \n",
        "  upper_pads_o_b = extract_pad(upper_pads)\n",
        "\n",
        "  # Extracting lower pads\n",
        "  lower_pads = np.zeros_like(ball_frames)\n",
        "  lower_pads[:, 45:50, :] = game_frames[1:, 58:63, :]\n",
        "  lower_pads_o_b = extract_pad(lower_pads)\n",
        "\n",
        "  # Stroing everything in a new directory\n",
        "  np.savez_compressed(NEW_DIR + '/' + f, ball = ball_frames, u_pad=upper_pads_o_b,\\\n",
        "                      l_pad = lower_pads_o_b, whole_frames = game_frames[1:, :, :])"
      ],
      "execution_count": null,
      "outputs": []
    },
    {
      "cell_type": "code",
      "metadata": {
        "colab": {
          "base_uri": "https://localhost:8080/",
          "height": 285
        },
        "id": "2T24AV4c70qk",
        "outputId": "c60dc97e-bcc6-4cc8-866a-1fcddfd0fdc9"
      },
      "source": [
        "# Animating one trail of only upper paddle\n",
        "DATA_DIR = '/content/gdrive/MyDrive/PONG_Data_large_ball_pad_random_agent'\n",
        "\n",
        "filelist = os.listdir(DATA_DIR)\n",
        "filelist.sort()\n",
        "filelist = filelist[199]\n",
        "\n",
        "data = np.load(DATA_DIR + '/' + filelist)\n",
        "game_frames = data['obs_w_p']\n",
        "\n",
        "upper_pads = np.zeros_like(game_frames[1:,7:58,:]) # drop the first frame \n",
        "upper_pads[:, 2:7,:] = game_frames[1:, 2:7,:] \n",
        "upper_pads_o_b = extract_pad(upper_pads)\n",
        "\n",
        "animate(upper_pads_o_b, 'u_pad')"
      ],
      "execution_count": null,
      "outputs": [
        {
          "output_type": "stream",
          "text": [
            "(999, 64, 64)\n"
          ],
          "name": "stdout"
        },
        {
          "output_type": "display_data",
          "data": {
            "image/png": "[encoded data removed]",
            "text/plain": [
              "<Figure size 432x288 with 1 Axes>"
            ]
          },
          "metadata": {
            "tags": [],
            "needs_background": "light"
          }
        }
      ]
    },
    {
      "cell_type": "code",
      "metadata": {
        "colab": {
          "base_uri": "https://localhost:8080/",
          "height": 302
        },
        "id": "tmzXRlC2bzSr",
        "outputId": "0c883b11-8294-476a-ade3-cbcb71bd0d1c"
      },
      "source": [
        "# Animating one trail of only lower paddle\n",
        "DATA_DIR = '/content/gdrive/MyDrive/PONG_Data_large_ball_pad_random_agent'\n",
        "\n",
        "filelist = os.listdir(DATA_DIR)\n",
        "filelist.sort()\n",
        "filelist = filelist[199]\n",
        "\n",
        "data = np.load(DATA_DIR + '/' + filelist)\n",
        "game_frames = data['obs_w_p']\n",
        "\n",
        "lower_pads = np.zeros_like(game_frames[1:,7:58,:])\n",
        "lower_pads[:, 45:50, :] = game_frames[1:, 58:63, :]\n",
        "lower_pads_o_b = extract_pad(lower_pads)\n",
        "\n",
        "animate(upper_pads_o_b, 'l_pad')"
      ],
      "execution_count": null,
      "outputs": [
        {
          "output_type": "stream",
          "text": [
            "(999, 64, 64)\n"
          ],
          "name": "stdout"
        },
        {
          "output_type": "execute_result",
          "data": {
            "text/plain": [
              "<matplotlib.image.AxesImage at 0x7f1127d12e80>"
            ]
          },
          "metadata": {
            "tags": []
          },
          "execution_count": 54
        },
        {
          "output_type": "display_data",
          "data": {
            "image/png": "[encoded data removed]",
            "text/plain": [
              "<Figure size 432x288 with 1 Axes>"
            ]
          },
          "metadata": {
            "tags": [],
            "needs_background": "light"
          }
        }
      ]
    },
    {
      "cell_type": "code",
      "metadata": {
        "colab": {
          "base_uri": "https://localhost:8080/"
        },
        "id": "2eDkpLQ0Nawd",
        "outputId": "302a7d68-a5bb-438a-d2eb-be41005dcd54"
      },
      "source": [
        "!git clone https://github.com/hardmaru/WorldModelsExperiments.git"
      ],
      "execution_count": 3,
      "outputs": [
        {
          "output_type": "stream",
          "text": [
            "Cloning into 'WorldModelsExperiments'...\n",
            "remote: Enumerating objects: 200, done.\u001b[K\n",
            "remote: Total 200 (delta 0), reused 0 (delta 0), pack-reused 200\u001b[K\n",
            "Receiving objects: 100% (200/200), 21.00 MiB | 20.95 MiB/s, done.\n",
            "Resolving deltas: 100% (74/74), done.\n"
          ],
          "name": "stdout"
        }
      ]
    },
    {
      "cell_type": "code",
      "metadata": {
        "colab": {
          "base_uri": "https://localhost:8080/"
        },
        "id": "QKiFdIjct8JF",
        "outputId": "71c8b2c0-6080-4586-8050-ad059ae3dab0"
      },
      "source": [
        "%cd /content/WorldModelsExperiments/carracing"
      ],
      "execution_count": 1,
      "outputs": [
        {
          "output_type": "stream",
          "text": [
            "/content/WorldModelsExperiments/carracing\n"
          ],
          "name": "stdout"
        }
      ]
    },
    {
      "cell_type": "code",
      "metadata": {
        "colab": {
          "base_uri": "https://localhost:8080/"
        },
        "id": "RtAiP8QcqdBM",
        "outputId": "ca17c642-f7d0-41fa-eb0b-9d1a4a358df8"
      },
      "source": [
        "%tensorflow_version 1.8.0 # Change the tensorflow default to 1.x"
      ],
      "execution_count": 2,
      "outputs": [
        {
          "output_type": "stream",
          "text": [
            "`%tensorflow_version` only switches the major version: 1.x or 2.x.\n",
            "You set: `1.8.0 # Change the tensorflow default to 1.x`. This will be interpreted as: `1.x`.\n",
            "\n",
            "\n",
            "TensorFlow 1.x selected.\n"
          ],
          "name": "stdout"
        }
      ]
    },
    {
      "cell_type": "code",
      "metadata": {
        "id": "uTxd8qm7NXwx",
        "colab": {
          "base_uri": "https://localhost:8080/"
        },
        "outputId": "6b8d30ad-7438-4b04-c543-e1fe950ef323"
      },
      "source": [
        "# Use the frames with large ball and zeroed out paddles to train a VAE\n",
        "\n",
        "########### Attention! ###########\n",
        "#change 3 to 1 (3 -> 1) in line 34 and 56 in WorldModelsExperiments/carracing/vae.py \n",
        "# after git clone (before running this cell)\n",
        "\n",
        "# Also beta needs to be added to the world models VAE implementation\n",
        "# in /content/WorldModelsExperiments/carracing/vae/vae.py file:\n",
        "\n",
        "# line 14 add: , beta = 1\n",
        "# afer line 20 add: self.beta = beta\n",
        "# considering a line was added for beta, change the current line 80 to self.loss = self.r_loss + self.beta * self.kl_loss\n",
        "#################################\n",
        "\n",
        "import os\n",
        "os.environ[\"CUDA_VISIBLE_DEVICES\"]=\"0\" # can just override for multi-gpu systems\n",
        "\n",
        "import tensorflow as tf\n",
        "import random\n",
        "import numpy as np\n",
        "np.set_printoptions(precision=4, edgeitems=6, linewidth=100, suppress=True)\n",
        "from tqdm import tqdm\n",
        "from vae.vae import ConvVAE, reset_graph\n",
        "\n",
        "# Hyperparameters for ConvVAE\n",
        "z_size=2\n",
        "batch_size=100\n",
        "learning_rate=0.0001\n",
        "kl_tolerance=0.5\n",
        "beta = 50\n",
        "# Parameters for training\n",
        "NUM_EPOCH = 50\n",
        "DATA_DIR = '/content/gdrive/MyDrive/PONG_Data_large_ball'\n",
        "\n",
        "model_save_path = '/content/gdrive/MyDrive/PONG_model'\n",
        "if not os.path.exists(model_save_path):\n",
        "  os.makedirs(model_save_path)\n",
        "\n",
        "def create_dataset(filelist, N=199): # N is 199 episodes\n",
        "  data = []\n",
        "  for i in range(N):\n",
        "    filename = filelist[i]\n",
        "    raw_data = np.load(os.path.join(DATA_DIR, filename))['obs_o_p']\n",
        "    raw_data_o_0 = [d for d in raw_data if np.sum(d) != 0]\n",
        "    data += raw_data_o_0\n",
        "  return np.expand_dims(np.asarray(data, dtype=np.uint8), -1)\n",
        "\n",
        "filelist = os.listdir(DATA_DIR)\n",
        "filelist.sort()\n",
        "filelist = filelist[0:199]\n",
        "\n",
        "dataset = create_dataset(filelist)\n",
        "\n",
        "# split into batches:\n",
        "total_length = len(dataset)\n",
        "num_batches = int(np.floor(total_length/batch_size))\n",
        "print(\"num_batches\", num_batches)\n",
        "\n",
        "reset_graph()\n",
        "\n",
        "vae = ConvVAE(z_size=z_size,\n",
        "              batch_size=batch_size,\n",
        "              learning_rate=learning_rate,\n",
        "              kl_tolerance=kl_tolerance,\n",
        "              is_training=True,\n",
        "              reuse=False,\n",
        "              gpu_mode=True,\n",
        "              beta= beta)\n",
        "\n",
        "# train loop:\n",
        "print(\"train\", \"step\", \"loss\", \"recon_loss\", \"kl_loss\")\n",
        "for epoch in tqdm(range(NUM_EPOCH)):\n",
        "  np.random.shuffle(dataset)\n",
        "  for idx in range(num_batches):\n",
        "    batch = dataset[idx*batch_size:(idx+1)*batch_size]\n",
        "\n",
        "    obs = batch.astype(np.float)\n",
        "\n",
        "    feed = {vae.x: obs,}\n",
        "\n",
        "    (train_loss, r_loss, kl_loss, train_step, _) = vae.sess.run([\n",
        "      vae.loss, vae.r_loss, vae.kl_loss, vae.global_step, vae.train_op\n",
        "    ], feed)\n",
        "  \n",
        "    if ((train_step+1) % 500 == 0):\n",
        "      print(\"step\", (train_step+1), train_loss, r_loss, kl_loss)\n",
        "    if ((train_step+1) % 5000 == 0):\n",
        "      vae.save_json( model_save_path + \"/vae_pong_ne_{ne}_64x64_{beta}.json\".format(ne = NUM_EPOCH, beta = beta))\n",
        "\n",
        "# finished, final model:\n",
        "vae.save_json(model_save_path + \"/vae_pong_ne_{ne}_64x64_{beta}.json\".format(ne = NUM_EPOCH, beta = beta))\n"
      ],
      "execution_count": null,
      "outputs": [
        {
          "output_type": "stream",
          "text": [
            "num_batches 1988\n",
            "WARNING:tensorflow:From /content/WorldModelsExperiments/carracing/vae/vae.py:11: The name tf.reset_default_graph is deprecated. Please use tf.compat.v1.reset_default_graph instead.\n",
            "\n",
            "WARNING:tensorflow:From /content/WorldModelsExperiments/carracing/vae/vae.py:22: The name tf.variable_scope is deprecated. Please use tf.compat.v1.variable_scope instead.\n",
            "\n",
            "WARNING:tensorflow:From /content/WorldModelsExperiments/carracing/vae/vae.py:28: The name tf.logging.info is deprecated. Please use tf.compat.v1.logging.info instead.\n",
            "\n",
            "INFO:tensorflow:Model using gpu.\n",
            "WARNING:tensorflow:From /content/WorldModelsExperiments/carracing/vae/vae.py:35: The name tf.placeholder is deprecated. Please use tf.compat.v1.placeholder instead.\n",
            "\n",
            "WARNING:tensorflow:From /content/WorldModelsExperiments/carracing/vae/vae.py:38: conv2d (from tensorflow.python.layers.convolutional) is deprecated and will be removed in a future version.\n",
            "Instructions for updating:\n",
            "Use `tf.keras.layers.Conv2D` instead.\n",
            "WARNING:tensorflow:From /tensorflow-1.15.2/python3.6/tensorflow_core/python/layers/convolutional.py:424: Layer.apply (from tensorflow.python.keras.engine.base_layer) is deprecated and will be removed in a future version.\n",
            "Instructions for updating:\n",
            "Please use `layer.__call__` method instead.\n",
            "WARNING:tensorflow:From /content/WorldModelsExperiments/carracing/vae/vae.py:45: dense (from tensorflow.python.layers.core) is deprecated and will be removed in a future version.\n",
            "Instructions for updating:\n",
            "Use keras.layers.Dense instead.\n",
            "WARNING:tensorflow:From /content/WorldModelsExperiments/carracing/vae/vae.py:48: The name tf.random_normal is deprecated. Please use tf.random.normal instead.\n",
            "\n",
            "WARNING:tensorflow:From /content/WorldModelsExperiments/carracing/vae/vae.py:54: conv2d_transpose (from tensorflow.python.layers.convolutional) is deprecated and will be removed in a future version.\n",
            "Instructions for updating:\n",
            "Use `tf.keras.layers.Conv2DTranspose` instead.\n",
            "WARNING:tensorflow:From /content/WorldModelsExperiments/carracing/vae/vae.py:84: The name tf.train.AdamOptimizer is deprecated. Please use tf.compat.v1.train.AdamOptimizer instead.\n",
            "\n",
            "WARNING:tensorflow:From /tensorflow-1.15.2/python3.6/tensorflow_core/python/ops/math_grad.py:1424: where (from tensorflow.python.ops.array_ops) is deprecated and will be removed in a future version.\n",
            "Instructions for updating:\n",
            "Use tf.where in 2.0, which has the same broadcast rule as np.where\n",
            "WARNING:tensorflow:From /content/WorldModelsExperiments/carracing/vae/vae.py:91: The name tf.global_variables_initializer is deprecated. Please use tf.compat.v1.global_variables_initializer instead.\n",
            "\n",
            "WARNING:tensorflow:From /content/WorldModelsExperiments/carracing/vae/vae.py:93: The name tf.trainable_variables is deprecated. Please use tf.compat.v1.trainable_variables instead.\n",
            "\n",
            "WARNING:tensorflow:From /content/WorldModelsExperiments/carracing/vae/vae.py:105: The name tf.Session is deprecated. Please use tf.compat.v1.Session instead.\n",
            "\n"
          ],
          "name": "stdout"
        },
        {
          "output_type": "stream",
          "text": [
            "\r  0%|          | 0/50 [00:00<?, ?it/s]"
          ],
          "name": "stderr"
        },
        {
          "output_type": "stream",
          "text": [
            "train step loss recon_loss kl_loss\n",
            "step 500 6262722.5 6262487.5 4.6980124\n",
            "step 1000 6273206.5 6273009.5 3.9401045\n",
            "step 1500 6420141.0 6419903.5 4.7538533\n"
          ],
          "name": "stdout"
        }
      ]
    },
    {
      "cell_type": "code",
      "metadata": {
        "colab": {
          "base_uri": "https://localhost:8080/",
          "height": 268
        },
        "id": "1u6BPKpDGUCv",
        "outputId": "82638c37-113b-4870-da99-2897b2b80a4b"
      },
      "source": [
        "# Taking a frame from test frames for recounstruction\n",
        "import os\n",
        "import numpy as np\n",
        "import matplotlib.pyplot as plt\n",
        "DATA_DIR = '/content/gdrive/MyDrive/PONG_Data_large_ball'\n",
        "\n",
        "filelist = os.listdir(DATA_DIR)\n",
        "filelist.sort()\n",
        "filelist = filelist[199]\n",
        "\n",
        "data = np.load(DATA_DIR + '/' + filelist)\n",
        "game_frames = data['obs_o_p']\n",
        "game_frames = game_frames.astype(np.float32)\n",
        "frame = game_frames[296]\n",
        "plt.imshow(frame, cmap='gray')\n",
        "plt.show()"
      ],
      "execution_count": 4,
      "outputs": [
        {
          "output_type": "display_data",
          "data": {
            "image/png": "[encoded data removed]",
            "text/plain": [
              "<Figure size 432x288 with 1 Axes>"
            ]
          },
          "metadata": {
            "tags": [],
            "needs_background": "light"
          }
        }
      ]
    },
    {
      "cell_type": "code",
      "metadata": {
        "colab": {
          "base_uri": "https://localhost:8080/"
        },
        "id": "LUadfy3vIDyG",
        "outputId": "5c6cff51-67c1-4b1e-ab0b-c6613388c72a"
      },
      "source": [
        "# Load the VAE for test\n",
        "from vae.vae import ConvVAE, reset_graph\n",
        "import os\n",
        "import numpy as np\n",
        "\n",
        "z_size = 2\n",
        "model_path_name = '/content/gdrive/MyDrive/PONG_model'\n",
        "vae = ConvVAE(z_size=z_size,\n",
        "              batch_size=1,\n",
        "              is_training=False,\n",
        "              reuse=False,\n",
        "              gpu_mode=False, beta = 1)\n",
        "\n",
        "vae.load_json(os.path.join(model_path_name, 'vae_pong_ne_50_64x64_100.json'))"
      ],
      "execution_count": 5,
      "outputs": [
        {
          "output_type": "stream",
          "text": [
            "INFO:tensorflow:Model using cpu.\n"
          ],
          "name": "stdout"
        }
      ]
    },
    {
      "cell_type": "code",
      "metadata": {
        "colab": {
          "base_uri": "https://localhost:8080/",
          "height": 268
        },
        "id": "ybinNTgWLSgi",
        "outputId": "d539dc5e-9cc6-4982-a10f-9b55efb00b9d"
      },
      "source": [
        "# frame reconstruction\n",
        "batch_z = vae.encode(np.expand_dims(np.expand_dims(frame, 2), 0))\n",
        "reconstruct = vae.decode(batch_z)\n",
        "plt.imshow(np.squeeze(reconstruct[0]), cmap='gray')\n",
        "plt.show()"
      ],
      "execution_count": 6,
      "outputs": [
        {
          "output_type": "display_data",
          "data": {
            "image/png": "[encoded data removed]",
            "text/plain": [
              "<Figure size 432x288 with 1 Axes>"
            ]
          },
          "metadata": {
            "tags": [],
            "needs_background": "light"
          }
        }
      ]
    },
    {
      "cell_type": "code",
      "metadata": {
        "colab": {
          "base_uri": "https://localhost:8080/",
          "height": 285
        },
        "id": "2gZhHAQ3yx25",
        "outputId": "c4e8e5ad-cb12-4cb1-fb3a-a2d7aa53bd56"
      },
      "source": [
        "# Animating the reconstructed frame when changing the Z space in a range\n",
        "# Note that no input is required for this part, only compiling the model and \n",
        "# loading the trained weights is required. The Z values will be selected from the \n",
        "# specified range \n",
        "from itertools import product\n",
        "import matplotlib.animation as animation\n",
        "import numpy as np\n",
        "\n",
        "step1 = np.arange(-2, 2, 0.5)\n",
        "step2 = np.arange(-2, 2, 0.5)\n",
        "# print(len(steps))\n",
        "xy = list(product(step1, step2)) # making a grid\n",
        "print(len(xy))\n",
        "\n",
        "fig = plt.figure('o_p')\n",
        "img_rec = []\n",
        "for item in xy:\n",
        "  batch_z = np.expand_dims(np.asarray(item), 0)\n",
        "  reconstruct = vae.decode(batch_z)\n",
        "  img_rec.append([plt.imshow(np.squeeze(reconstruct[0]), cmap='gray')])\n",
        "\n",
        "anim = animation.ArtistAnimation(fig, img_rec, interval = 30, blit = True, repeat_delay=0)\n",
        "anim.save('rec_ball.mp4')"
      ],
      "execution_count": 7,
      "outputs": [
        {
          "output_type": "stream",
          "text": [
            "64\n"
          ],
          "name": "stdout"
        },
        {
          "output_type": "display_data",
          "data": {
            "image/png": "[encoded data removed]",
            "text/plain": [
              "<Figure size 432x288 with 1 Axes>"
            ]
          },
          "metadata": {
            "tags": [],
            "needs_background": "light"
          }
        }
      ]
    },
    {
      "cell_type": "code",
      "metadata": {
        "id": "HxjbB9wJCGA5"
      },
      "source": [
        "# ploting the outputs of the obove cell in a grid of images\n",
        "import matplotlib.pyplot as plt\n",
        "\n",
        "rc = {\"axes.spines.left\" : False,\n",
        "      \"axes.spines.right\" : False,\n",
        "      \"axes.spines.bottom\" : False,\n",
        "      \"axes.spines.top\" : False,\n",
        "      \"xtick.bottom\" : False,\n",
        "      \"xtick.labelbottom\" : False,\n",
        "      \"ytick.labelleft\" : False,\n",
        "      \"ytick.left\" : False}\n",
        "plt.rcParams.update(rc)\n",
        "\n",
        "fig, axs = plt.subplots(nrows = 8, ncols = 8, figsize = (15, 15))\n",
        "axs = axs.ravel()\n",
        "for i in range(len(xy)):\n",
        "  batch_z = np.expand_dims(np.asarray(xy[i]), 0)\n",
        "  # reconstruct = vae.decode(batch_z)\n",
        "  axs[i].imshow(np.squeeze(vae.decode(batch_z)), cmap = 'gray')\n",
        "fig.savefig('z_explore_beta_100_ne_50.pdf', bbox_inches='tight')\n",
        "plt.close()"
      ],
      "execution_count": 8,
      "outputs": []
    }
  ]
}